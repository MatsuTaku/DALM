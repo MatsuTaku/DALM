{
 "metadata": {
  "name": "",
  "signature": "sha256:0e11f74d772c60815b9b95b5b2e194afa97cc14e0adaf6e842b4ea2d6fb2dcef"
 },
 "nbformat": 3,
 "nbformat_minor": 0,
 "worksheets": [
  {
   "cells": [
    {
     "cell_type": "code",
     "collapsed": false,
     "input": [
      "import dalm\n",
      "import glob"
     ],
     "language": "python",
     "metadata": {},
     "outputs": [],
     "prompt_number": 56
    },
    {
     "cell_type": "code",
     "collapsed": false,
     "input": [
      "builder = dalm.Builder()"
     ],
     "language": "python",
     "metadata": {},
     "outputs": [],
     "prompt_number": 57
    },
    {
     "cell_type": "code",
     "collapsed": false,
     "input": [
      "builder(\"/Users/arrow/Documents/Research/mtplz_clone/model/kftt.2k.dalm\", \"/tmp/kftt.2k.kenlm.arpa\")\n",
      "glob.glob(\"/tmp/kftt.2k.dalm/*\")"
     ],
     "language": "python",
     "metadata": {},
     "outputs": [
      {
       "metadata": {},
       "output_type": "pyout",
       "prompt_number": 58,
       "text": [
        "['/tmp/kftt.2k.dalm/dalm.bin',\n",
        " '/tmp/kftt.2k.dalm/dalm.ini',\n",
        " '/tmp/kftt.2k.dalm/words.bin',\n",
        " '/tmp/kftt.2k.dalm/words.txt']"
       ]
      }
     ],
     "prompt_number": 58
    },
    {
     "cell_type": "code",
     "collapsed": false,
     "input": [
      "words = \"\u4eca\u65e5 \u306f \u65e5\u5dee\u3057 \u304c \u5f37\u3044 \u3002\".split(\" \")"
     ],
     "language": "python",
     "metadata": {},
     "outputs": [],
     "prompt_number": 59
    },
    {
     "cell_type": "code",
     "collapsed": false,
     "input": [
      "model = dalm.Model(\"/Users/arrow/Documents/Research/mtplz_clone/model/kftt.2k.dalm\", \"info\")\n",
      "state = dalm.State()"
     ],
     "language": "python",
     "metadata": {},
     "outputs": [],
     "prompt_number": 60
    },
    {
     "cell_type": "code",
     "collapsed": false,
     "input": [
      "model.lm.init_state(state)\n",
      "for word in words:\n",
      "    word_id = model.vocab.lookup(word)\n",
      "    score = model.lm.query(word_id, state)\n",
      "    print(word_id, score)"
     ],
     "language": "python",
     "metadata": {},
     "outputs": [
      {
       "output_type": "stream",
       "stream": "stdout",
       "text": [
        "(2938, -4.589781761169434)\n",
        "(10, -1.9025498628616333)\n",
        "(5449, -4.556740760803223)\n",
        "(11, -1.8146114349365234)\n",
        "(5449, -4.55472469329834)\n",
        "(16, -2.0767879486083984)\n"
       ]
      }
     ],
     "prompt_number": 61
    },
    {
     "cell_type": "code",
     "collapsed": false,
     "input": [],
     "language": "python",
     "metadata": {},
     "outputs": [],
     "prompt_number": 61
    }
   ],
   "metadata": {}
  }
 ]
}